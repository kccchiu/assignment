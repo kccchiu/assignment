{
 "cells": [
  {
   "cell_type": "markdown",
   "metadata": {},
   "source": [
    "# Ex A"
   ]
  },
  {
   "cell_type": "code",
   "execution_count": 1,
   "metadata": {},
   "outputs": [],
   "source": [
    "import numpy as np"
   ]
  },
  {
   "cell_type": "markdown",
   "metadata": {},
   "source": [
    "####  BM25 Example from Ch.7 slides"
   ]
  },
  {
   "cell_type": "code",
   "execution_count": 2,
   "metadata": {},
   "outputs": [],
   "source": [
    "N = 500000\n",
    "n1 = 40000\n",
    "n2 = 300\n",
    "f1 = 15\n",
    "f2 = 25\n",
    "dl = 0.9\n",
    "k1 = 1.2\n",
    "k2 = 100\n",
    "b = 0.75\n",
    "r1 = 0\n",
    "R = 0\n",
    "qf=1"
   ]
  },
  {
   "cell_type": "code",
   "execution_count": 3,
   "metadata": {},
   "outputs": [],
   "source": [
    "def get_K(k1, b, dl):\n",
    "    return k1*((1-b)+b*dl)"
   ]
  },
  {
   "cell_type": "code",
   "execution_count": 4,
   "metadata": {},
   "outputs": [],
   "source": [
    "def bm25(k1,k2,ri,ni,fi,R,qf,K):\n",
    "    return np.log(((ri+0.5)/(R-ri+0.5))/((ni-ri+0.5)/(N-ni-R+ri+0.5)))*(((k1+1)*fi)/(K+fi))*(((k2+1)*qf)/(k2+qf))"
   ]
  },
  {
   "cell_type": "code",
   "execution_count": 5,
   "metadata": {},
   "outputs": [],
   "source": [
    "K = get_K(k1, b, dl)"
   ]
  },
  {
   "cell_type": "code",
   "execution_count": 6,
   "metadata": {},
   "outputs": [],
   "source": [
    "t1 = bm25(k1,k2,r1,n1,f1,R,qf,K)\n",
    "t2 = bm25(k1,k2,r1,n2,f2,R,qf,K)"
   ]
  },
  {
   "cell_type": "code",
   "execution_count": 7,
   "metadata": {},
   "outputs": [
    {
     "data": {
      "text/plain": [
       "20.625189631270004"
      ]
     },
     "execution_count": 7,
     "metadata": {},
     "output_type": "execute_result"
    }
   ],
   "source": [
    "np.sum([t1,t2])  #'almost' the same result as in the slide"
   ]
  },
  {
   "cell_type": "markdown",
   "metadata": {},
   "source": [
    "## Assignment"
   ]
  },
  {
   "cell_type": "code",
   "execution_count": 8,
   "metadata": {},
   "outputs": [],
   "source": [
    "N = 1000\n",
    "n1 = 100\n",
    "n2 = 200\n",
    "n3 = 150\n",
    "f1 = 1\n",
    "f2 = 4\n",
    "f3 = 1\n",
    "k1 = 1.2\n",
    "k2 = 100\n",
    "b = 0.75\n",
    "r = 0 #Assuming no relevance information\n",
    "R = 0 #Assuming no relevance information\n",
    "qf = 1 #Assuming query with two terms, qf=1\n",
    "dl = 1 #Assuming document length is same as average document length"
   ]
  },
  {
   "cell_type": "code",
   "execution_count": 9,
   "metadata": {},
   "outputs": [],
   "source": [
    "K = get_K(k1,b,dl)"
   ]
  },
  {
   "cell_type": "code",
   "execution_count": 10,
   "metadata": {},
   "outputs": [
    {
     "name": "stdout",
     "output_type": "stream",
     "text": [
      "score of riverside: 2.1927924371168803\n",
      "score of university: 2.342868483475631\n",
      "score of diverse: 1.731861327646986\n"
     ]
    }
   ],
   "source": [
    "riverside = bm25(k1, k2, r, n1, f1, R, qf, K)\n",
    "print('score of riverside:',riverside)\n",
    "university = bm25(k1, k2, r, n2, f2, R, qf, K)\n",
    "print('score of university:',university)\n",
    "diverse = bm25(k1, k2, r, n3, f3, R, qf, K)\n",
    "print('score of diverse:',diverse)"
   ]
  },
  {
   "cell_type": "markdown",
   "metadata": {},
   "source": [
    "####  Answer"
   ]
  },
  {
   "cell_type": "code",
   "execution_count": 11,
   "metadata": {},
   "outputs": [
    {
     "name": "stdout",
     "output_type": "stream",
     "text": [
      "bm25 score for Q1 (university+riverside) is: 4.535660920592511\n",
      "bm25 score for Q2 (diverse+university) is: 4.074729811122617\n"
     ]
    }
   ],
   "source": [
    "#Q1 university Riverside\n",
    "print('bm25 score for Q1 (university+riverside) is:',university+riverside)\n",
    "#Q2diverse univeristy\n",
    "print('bm25 score for Q2 (diverse+university) is:',diverse+university)"
   ]
  },
  {
   "cell_type": "markdown",
   "metadata": {},
   "source": [
    "Constraint in bm25 are assumption of r, R, and the average document length."
   ]
  },
  {
   "cell_type": "markdown",
   "metadata": {},
   "source": [
    "### Unigram"
   ]
  },
  {
   "cell_type": "code",
   "execution_count": 12,
   "metadata": {},
   "outputs": [],
   "source": [
    "doc = \"The University of California, Riverside is one of 10 universities within the prestigious University of California system, and the only UC located in Inland Southern California. Widely recognized as one of the most ethnically diverse research universities in the nation.\""
   ]
  },
  {
   "cell_type": "code",
   "execution_count": 13,
   "metadata": {},
   "outputs": [],
   "source": [
    "doc = doc.lower().replace('universities','university').split(\" \")"
   ]
  },
  {
   "cell_type": "code",
   "execution_count": 14,
   "metadata": {},
   "outputs": [
    {
     "name": "stdout",
     "output_type": "stream",
     "text": [
      "The total length of the document is: 40\n",
      "The count of university is: 4\n",
      "The count of Riverside is: 1\n",
      "The count of diverse is: 1\n"
     ]
    }
   ],
   "source": [
    "count_uni = doc.count(\"university\")\n",
    "count_riv = doc.count(\"riverside\")\n",
    "count_div = doc.count(\"diverse\")\n",
    "\n",
    "count_doc = len(doc)\n",
    "\n",
    "# print count\n",
    "print(\"The total length of the document is:\", count_doc)\n",
    "print(\"The count of university is:\", count_uni)\n",
    "print(\"The count of Riverside is:\", count_riv)\n",
    "print(\"The count of diverse is:\", count_div)"
   ]
  },
  {
   "cell_type": "code",
   "execution_count": 15,
   "metadata": {},
   "outputs": [
    {
     "name": "stdout",
     "output_type": "stream",
     "text": [
      "unigram model score for q1 is 0.0025, and q2 is 0.0025\n"
     ]
    }
   ],
   "source": [
    "#Q1 university Riverside\n",
    "uni_q1 = (count_uni/count_doc)*(count_riv/count_doc)\n",
    "#Q2 diverse university\n",
    "uni_q2 = (count_div/count_doc)*(count_uni/count_doc)\n",
    "print('unigram model score for q1 is %.4f, and q2 is %.4f' % (round(uni_q1,6), round(uni_q2,6)))"
   ]
  },
  {
   "cell_type": "markdown",
   "metadata": {},
   "source": [
    "#### Laplace smoothing"
   ]
  },
  {
   "cell_type": "code",
   "execution_count": 16,
   "metadata": {},
   "outputs": [],
   "source": [
    "def laplace(count, count_doc, k):\n",
    "    return (count+k)/(count_doc+(count*k))"
   ]
  },
  {
   "cell_type": "code",
   "execution_count": 17,
   "metadata": {},
   "outputs": [
    {
     "name": "stdout",
     "output_type": "stream",
     "text": [
      "unigram model score for q1 is 0.0055, and q2 is 0.0024\n"
     ]
    }
   ],
   "source": [
    "k = 1\n",
    "uni_q1 = laplace(count_uni, count_doc, k)*laplace(count_riv, count_doc, k)\n",
    "uni_q2 = laplace(count_div, count_doc, k)*laplace(count_riv, count_doc, k)\n",
    "print('unigram model score for q1 is %.4f, and q2 is %.4f' % (round(uni_q1,6), round(uni_q2,6)))"
   ]
  },
  {
   "cell_type": "markdown",
   "metadata": {},
   "source": [
    "# Ex B"
   ]
  },
  {
   "cell_type": "code",
   "execution_count": 18,
   "metadata": {},
   "outputs": [],
   "source": [
    "d = 0.85\n",
    "ep = 0.00001\n",
    "pnode1 = 1\n",
    "pnode2 = 1\n",
    "pnode3 = 1\n",
    "pnode4 = 1\n",
    "pnode5 = 1"
   ]
  },
  {
   "cell_type": "code",
   "execution_count": 19,
   "metadata": {},
   "outputs": [
    {
     "name": "stdout",
     "output_type": "stream",
     "text": [
      "Iteration 0 \n",
      "\n",
      "Page rank of \t\t\t\t\t node1:1.000000, node2:1.000000, node3:1.000000, node4:1.000000, node5:1.000000\n",
      "Page rank after 1 iteration \t\t\t node1:1.000000, node2:1.000000, node3:0.575000, node4:0.150000, node5:2.275000\n",
      "Difference of rank in each node \t\t node1:0.000000, node2:0.000000, node3:0.425000, node4:0.850000, node5:1.275000\n",
      "The greatest difference out of the 5 node is:\t 1.275\n",
      "--------------------------------------------------------------\n",
      "Iteration 1 \n",
      "\n",
      "Page rank of \t\t\t\t\t node1:1.000000, node2:1.000000, node3:0.575000, node4:0.150000, node5:2.275000\n",
      "Page rank after 2 iteration \t\t\t node1:0.638750, node2:1.000000, node3:0.575000, node4:0.150000, node5:2.636250\n",
      "Difference of rank in each node \t\t node1:0.361250, node2:0.000000, node3:0.000000, node4:0.000000, node5:0.361250\n",
      "The greatest difference out of the 5 node is:\t 0.36125000000000007\n",
      "--------------------------------------------------------------\n",
      "Iteration 2 \n",
      "\n",
      "Page rank of \t\t\t\t\t node1:0.638750, node2:1.000000, node3:0.575000, node4:0.150000, node5:2.636250\n",
      "Page rank after 3 iteration \t\t\t node1:0.638750, node2:0.692937, node3:0.575000, node4:0.150000, node5:2.943312\n",
      "Difference of rank in each node \t\t node1:0.000000, node2:0.307063, node3:0.000000, node4:0.000000, node5:0.307062\n",
      "The greatest difference out of the 5 node is:\t 0.3070625\n",
      "--------------------------------------------------------------\n",
      "Iteration 3 \n",
      "\n",
      "Page rank of \t\t\t\t\t node1:0.638750, node2:0.692937, node3:0.575000, node4:0.150000, node5:2.943312\n",
      "Page rank after 4 iteration \t\t\t node1:0.638750, node2:0.692937, node3:0.444498, node4:0.150000, node5:3.073814\n",
      "Difference of rank in each node \t\t node1:0.000000, node2:0.000000, node3:0.130502, node4:0.000000, node5:0.130502\n",
      "The greatest difference out of the 5 node is:\t 0.1305015625000001\n",
      "--------------------------------------------------------------\n",
      "Iteration 4 \n",
      "\n",
      "Page rank of \t\t\t\t\t node1:0.638750, node2:0.692937, node3:0.444498, node4:0.150000, node5:3.073814\n",
      "Page rank after 5 iteration \t\t\t node1:0.527824, node2:0.692937, node3:0.444498, node4:0.150000, node5:3.184740\n",
      "Difference of rank in each node \t\t node1:0.110926, node2:0.000000, node3:0.000000, node4:0.000000, node5:0.110926\n",
      "The greatest difference out of the 5 node is:\t 0.11092632812500014\n",
      "--------------------------------------------------------------\n",
      "Iteration 5 \n",
      "\n",
      "Page rank of \t\t\t\t\t node1:0.527824, node2:0.692937, node3:0.444498, node4:0.150000, node5:3.184740\n",
      "Page rank after 6 iteration \t\t\t node1:0.527824, node2:0.598650, node3:0.444498, node4:0.150000, node5:3.279028\n",
      "Difference of rank in each node \t\t node1:0.000000, node2:0.094287, node3:0.000000, node4:0.000000, node5:0.094287\n",
      "The greatest difference out of the 5 node is:\t 0.09428737890624994\n",
      "--------------------------------------------------------------\n",
      "Iteration 6 \n",
      "\n",
      "Page rank of \t\t\t\t\t node1:0.527824, node2:0.598650, node3:0.444498, node4:0.150000, node5:3.279028\n",
      "Page rank after 7 iteration \t\t\t node1:0.527824, node2:0.598650, node3:0.404426, node4:0.150000, node5:3.319100\n",
      "Difference of rank in each node \t\t node1:0.000000, node2:0.000000, node3:0.040072, node4:0.000000, node5:0.040072\n",
      "The greatest difference out of the 5 node is:\t 0.04007213603515636\n",
      "--------------------------------------------------------------\n",
      "Iteration 7 \n",
      "\n",
      "Page rank of \t\t\t\t\t node1:0.527824, node2:0.598650, node3:0.404426, node4:0.150000, node5:3.319100\n",
      "Page rank after 8 iteration \t\t\t node1:0.493762, node2:0.598650, node3:0.404426, node4:0.150000, node5:3.353161\n",
      "Difference of rank in each node \t\t node1:0.034061, node2:0.000000, node3:0.000000, node4:0.000000, node5:0.034061\n",
      "The greatest difference out of the 5 node is:\t 0.034061315629882793\n",
      "--------------------------------------------------------------\n",
      "Iteration 8 \n",
      "\n",
      "Page rank of \t\t\t\t\t node1:0.493762, node2:0.598650, node3:0.404426, node4:0.150000, node5:3.353161\n",
      "Page rank after 9 iteration \t\t\t node1:0.493762, node2:0.569698, node3:0.404426, node4:0.150000, node5:3.382113\n",
      "Difference of rank in each node \t\t node1:0.000000, node2:0.028952, node3:0.000000, node4:0.000000, node5:0.028952\n",
      "The greatest difference out of the 5 node is:\t 0.028952118285400452\n",
      "--------------------------------------------------------------\n",
      "Iteration 9 \n",
      "\n",
      "Page rank of \t\t\t\t\t node1:0.493762, node2:0.569698, node3:0.404426, node4:0.150000, node5:3.382113\n",
      "Page rank after 10 iteration \t\t\t node1:0.493762, node2:0.569698, node3:0.392122, node4:0.150000, node5:3.394418\n",
      "Difference of rank in each node \t\t node1:0.000000, node2:0.000000, node3:0.012305, node4:0.000000, node5:0.012305\n",
      "The greatest difference out of the 5 node is:\t 0.012304650271295181\n",
      "--------------------------------------------------------------\n",
      "Iteration 10 \n",
      "\n",
      "Page rank of \t\t\t\t\t node1:0.493762, node2:0.569698, node3:0.392122, node4:0.150000, node5:3.394418\n",
      "Page rank after 11 iteration \t\t\t node1:0.483303, node2:0.569698, node3:0.392122, node4:0.150000, node5:3.404877\n",
      "Difference of rank in each node \t\t node1:0.010459, node2:0.000000, node3:0.000000, node4:0.000000, node5:0.010459\n",
      "The greatest difference out of the 5 node is:\t 0.010458952730600934\n",
      "--------------------------------------------------------------\n",
      "Iteration 11 \n",
      "\n",
      "Page rank of \t\t\t\t\t node1:0.483303, node2:0.569698, node3:0.392122, node4:0.150000, node5:3.404877\n",
      "Page rank after 12 iteration \t\t\t node1:0.483303, node2:0.560808, node3:0.392122, node4:0.150000, node5:3.413767\n",
      "Difference of rank in each node \t\t node1:0.000000, node2:0.008890, node3:0.000000, node4:0.000000, node5:0.008890\n",
      "The greatest difference out of the 5 node is:\t 0.008890109821010794\n",
      "--------------------------------------------------------------\n",
      "Iteration 12 \n",
      "\n",
      "Page rank of \t\t\t\t\t node1:0.483303, node2:0.560808, node3:0.392122, node4:0.150000, node5:3.413767\n",
      "Page rank after 13 iteration \t\t\t node1:0.483303, node2:0.560808, node3:0.388343, node4:0.150000, node5:3.417545\n",
      "Difference of rank in each node \t\t node1:0.000000, node2:0.000000, node3:0.003778, node4:0.000000, node5:0.003778\n",
      "The greatest difference out of the 5 node is:\t 0.003778296673929593\n",
      "--------------------------------------------------------------\n",
      "Iteration 13 \n",
      "\n",
      "Page rank of \t\t\t\t\t node1:0.483303, node2:0.560808, node3:0.388343, node4:0.150000, node5:3.417545\n",
      "Page rank after 14 iteration \t\t\t node1:0.480092, node2:0.560808, node3:0.388343, node4:0.150000, node5:3.420757\n",
      "Difference of rank in each node \t\t node1:0.003212, node2:0.000000, node3:0.000000, node4:0.000000, node5:0.003212\n",
      "The greatest difference out of the 5 node is:\t 0.003211552172840193\n",
      "--------------------------------------------------------------\n",
      "Iteration 14 \n",
      "\n",
      "Page rank of \t\t\t\t\t node1:0.480092, node2:0.560808, node3:0.388343, node4:0.150000, node5:3.420757\n",
      "Page rank after 15 iteration \t\t\t node1:0.480092, node2:0.558078, node3:0.388343, node4:0.150000, node5:3.423487\n",
      "Difference of rank in each node \t\t node1:0.000000, node2:0.002730, node3:0.000000, node4:0.000000, node5:0.002730\n",
      "The greatest difference out of the 5 node is:\t 0.0027298193469140752\n",
      "--------------------------------------------------------------\n",
      "Iteration 15 \n",
      "\n",
      "Page rank of \t\t\t\t\t node1:0.480092, node2:0.558078, node3:0.388343, node4:0.150000, node5:3.423487\n",
      "Page rank after 16 iteration \t\t\t node1:0.480092, node2:0.558078, node3:0.387183, node4:0.150000, node5:3.424647\n",
      "Difference of rank in each node \t\t node1:0.000000, node2:0.000000, node3:0.001160, node4:0.000000, node5:0.001160\n",
      "The greatest difference out of the 5 node is:\t 0.0011601732224386652\n",
      "--------------------------------------------------------------\n",
      "Iteration 16 \n",
      "\n",
      "Page rank of \t\t\t\t\t node1:0.480092, node2:0.558078, node3:0.387183, node4:0.150000, node5:3.424647\n",
      "Page rank after 17 iteration \t\t\t node1:0.479106, node2:0.558078, node3:0.387183, node4:0.150000, node5:3.425633\n",
      "Difference of rank in each node \t\t node1:0.000986, node2:0.000000, node3:0.000000, node4:0.000000, node5:0.000986\n",
      "The greatest difference out of the 5 node is:\t 0.0009861472390730874\n",
      "--------------------------------------------------------------\n",
      "Iteration 17 \n",
      "\n",
      "Page rank of \t\t\t\t\t node1:0.479106, node2:0.558078, node3:0.387183, node4:0.150000, node5:3.425633\n",
      "Page rank after 18 iteration \t\t\t node1:0.479106, node2:0.557240, node3:0.387183, node4:0.150000, node5:3.426471\n",
      "Difference of rank in each node \t\t node1:0.000000, node2:0.000838, node3:0.000000, node4:0.000000, node5:0.000838\n",
      "The greatest difference out of the 5 node is:\t 0.0008382251532117468\n",
      "--------------------------------------------------------------\n",
      "Iteration 18 \n",
      "\n",
      "Page rank of \t\t\t\t\t node1:0.479106, node2:0.557240, node3:0.387183, node4:0.150000, node5:3.426471\n",
      "Page rank after 19 iteration \t\t\t node1:0.479106, node2:0.557240, node3:0.386827, node4:0.150000, node5:3.426828\n",
      "Difference of rank in each node \t\t node1:0.000000, node2:0.000000, node3:0.000356, node4:0.000000, node5:0.000356\n",
      "The greatest difference out of the 5 node is:\t 0.00035624569011505347\n",
      "--------------------------------------------------------------\n",
      "Iteration 19 \n",
      "\n",
      "Page rank of \t\t\t\t\t node1:0.479106, node2:0.557240, node3:0.386827, node4:0.150000, node5:3.426828\n",
      "Page rank after 20 iteration \t\t\t node1:0.478803, node2:0.557240, node3:0.386827, node4:0.150000, node5:3.427130\n",
      "Difference of rank in each node \t\t node1:0.000303, node2:0.000000, node3:0.000000, node4:0.000000, node5:0.000303\n",
      "The greatest difference out of the 5 node is:\t 0.0003028088365978343\n",
      "--------------------------------------------------------------\n",
      "Iteration 20 \n",
      "\n",
      "Page rank of \t\t\t\t\t node1:0.478803, node2:0.557240, node3:0.386827, node4:0.150000, node5:3.427130\n",
      "Page rank after 21 iteration \t\t\t node1:0.478803, node2:0.556982, node3:0.386827, node4:0.150000, node5:3.427388\n",
      "Difference of rank in each node \t\t node1:0.000000, node2:0.000257, node3:0.000000, node4:0.000000, node5:0.000257\n",
      "The greatest difference out of the 5 node is:\t 0.0002573875111081536\n",
      "--------------------------------------------------------------\n",
      "Iteration 21 \n",
      "\n",
      "Page rank of \t\t\t\t\t node1:0.478803, node2:0.556982, node3:0.386827, node4:0.150000, node5:3.427388\n",
      "Page rank after 22 iteration \t\t\t node1:0.478803, node2:0.556982, node3:0.386718, node4:0.150000, node5:3.427497\n",
      "Difference of rank in each node \t\t node1:0.000000, node2:0.000000, node3:0.000109, node4:0.000000, node5:0.000109\n",
      "The greatest difference out of the 5 node is:\t 0.00010938969222096251\n",
      "--------------------------------------------------------------\n",
      "Iteration 22 \n",
      "\n",
      "Page rank of \t\t\t\t\t node1:0.478803, node2:0.556982, node3:0.386718, node4:0.150000, node5:3.427497\n",
      "Page rank after 23 iteration \t\t\t node1:0.478710, node2:0.556982, node3:0.386718, node4:0.150000, node5:3.427590\n",
      "Difference of rank in each node \t\t node1:0.000093, node2:0.000000, node3:0.000000, node4:0.000000, node5:0.000093\n",
      "The greatest difference out of the 5 node is:\t 9.298123838785699e-05\n",
      "--------------------------------------------------------------\n",
      "Iteration 23 \n",
      "\n",
      "Page rank of \t\t\t\t\t node1:0.478710, node2:0.556982, node3:0.386718, node4:0.150000, node5:3.427590\n",
      "Page rank after 24 iteration \t\t\t node1:0.478710, node2:0.556903, node3:0.386718, node4:0.150000, node5:3.427669\n",
      "Difference of rank in each node \t\t node1:0.000000, node2:0.000079, node3:0.000000, node4:0.000000, node5:0.000079\n",
      "The greatest difference out of the 5 node is:\t 7.903405262965624e-05\n",
      "--------------------------------------------------------------\n",
      "Iteration 24 \n",
      "\n",
      "Page rank of \t\t\t\t\t node1:0.478710, node2:0.556903, node3:0.386718, node4:0.150000, node5:3.427669\n",
      "Page rank after 25 iteration \t\t\t node1:0.478710, node2:0.556903, node3:0.386684, node4:0.150000, node5:3.427703\n",
      "Difference of rank in each node \t\t node1:0.000000, node2:0.000000, node3:0.000034, node4:0.000000, node5:0.000034\n",
      "The greatest difference out of the 5 node is:\t 3.358947236753451e-05\n",
      "--------------------------------------------------------------\n",
      "Iteration 25 \n",
      "\n",
      "Page rank of \t\t\t\t\t node1:0.478710, node2:0.556903, node3:0.386684, node4:0.150000, node5:3.427703\n",
      "Page rank after 26 iteration \t\t\t node1:0.478681, node2:0.556903, node3:0.386684, node4:0.150000, node5:3.427731\n",
      "Difference of rank in each node \t\t node1:0.000029, node2:0.000000, node3:0.000000, node4:0.000000, node5:0.000029\n",
      "The greatest difference out of the 5 node is:\t 2.8551051512393233e-05\n",
      "--------------------------------------------------------------\n",
      "Iteration 26 \n",
      "\n",
      "Page rank of \t\t\t\t\t node1:0.478681, node2:0.556903, node3:0.386684, node4:0.150000, node5:3.427731\n",
      "Page rank after 27 iteration \t\t\t node1:0.478681, node2:0.556879, node3:0.386684, node4:0.150000, node5:3.427756\n",
      "Difference of rank in each node \t\t node1:0.000000, node2:0.000024, node3:0.000000, node4:0.000000, node5:0.000024\n",
      "The greatest difference out of the 5 node is:\t 2.42683937856647e-05\n",
      "--------------------------------------------------------------\n",
      "Iteration 27 \n",
      "\n",
      "Page rank of \t\t\t\t\t node1:0.478681, node2:0.556879, node3:0.386684, node4:0.150000, node5:3.427756\n",
      "Page rank after 28 iteration \t\t\t node1:0.478681, node2:0.556879, node3:0.386674, node4:0.150000, node5:3.427766\n",
      "Difference of rank in each node \t\t node1:0.000000, node2:0.000000, node3:0.000010, node4:0.000000, node5:0.000010\n",
      "The greatest difference out of the 5 node is:\t 1.0314067359296075e-05\n",
      "--------------------------------------------------------------\n",
      "Iteration 28 \n",
      "\n",
      "Page rank of \t\t\t\t\t node1:0.478681, node2:0.556879, node3:0.386674, node4:0.150000, node5:3.427766\n",
      "Page rank after 29 iteration \t\t\t node1:0.478673, node2:0.556879, node3:0.386674, node4:0.150000, node5:3.427775\n",
      "Difference of rank in each node \t\t node1:0.000009, node2:0.000000, node3:0.000000, node4:0.000000, node5:0.000009\n",
      "The greatest difference out of the 5 node is:\t 8.766957255268437e-06\n",
      "--------------------------------------------------------------\n"
     ]
    }
   ],
   "source": [
    "diff = 1\n",
    "i = 0\n",
    "while diff>ep:\n",
    "    print('Iteration',i,'\\n')\n",
    "    print('Page rank of \\t\\t\\t\\t\\t node1:%.6f, node2:%.6f, node3:%.6f, node4:%.6f, node5:%.6f' % (pnode1, pnode2, pnode3, pnode4, pnode5))\n",
    "    new_pnode1 = (1-d)+d*(pnode3/1)\n",
    "    new_pnode2 = (1-d)+d*(pnode1/1)\n",
    "    new_pnode3 = (1-d)+d*(pnode2/2)\n",
    "    new_pnode4 = (1-d)\n",
    "    new_pnode5 = (1-d)+d*((pnode2/2)+(pnode4/1)+(pnode5/1))\n",
    "    i+=1\n",
    "    print('Page rank after %d iteration \\t\\t\\t node1:%.6f, node2:%.6f, node3:%.6f, node4:%.6f, node5:%.6f' % (i, new_pnode1, new_pnode2, new_pnode3, new_pnode4, new_pnode5))\n",
    "    \n",
    "    diff_list = []\n",
    "    diff1 = abs(new_pnode1-pnode1)\n",
    "    diff2 = abs(new_pnode2-pnode2)\n",
    "    diff3 = abs(new_pnode3-pnode3)\n",
    "    diff4 = abs(new_pnode4-pnode4)\n",
    "    diff5 = abs(new_pnode5-pnode5)\n",
    "    print('Difference of rank in each node \\t\\t node1:%.6f, node2:%.6f, node3:%.6f, node4:%.6f, node5:%.6f' % (diff1, diff2, diff3, diff4, diff5))\n",
    "    diff_list.extend([diff1, diff2, diff3, diff4, diff5])\n",
    "    diff = max(diff_list)\n",
    "    print('The greatest difference out of the 5 node is:\\t',diff)\n",
    "    \n",
    "    pnode1 = new_pnode1\n",
    "    pnode2 = new_pnode2\n",
    "    pnode3 = new_pnode3\n",
    "    pnode4 = new_pnode4\n",
    "    pnode5 = new_pnode5\n",
    "    print('--------------------------------------------------------------')"
   ]
  },
  {
   "cell_type": "code",
   "execution_count": null,
   "metadata": {},
   "outputs": [],
   "source": []
  }
 ],
 "metadata": {
  "kernelspec": {
   "display_name": "Python 3",
   "language": "python",
   "name": "python3"
  },
  "language_info": {
   "codemirror_mode": {
    "name": "ipython",
    "version": 3
   },
   "file_extension": ".py",
   "mimetype": "text/x-python",
   "name": "python",
   "nbconvert_exporter": "python",
   "pygments_lexer": "ipython3",
   "version": "3.7.4"
  }
 },
 "nbformat": 4,
 "nbformat_minor": 2
}
