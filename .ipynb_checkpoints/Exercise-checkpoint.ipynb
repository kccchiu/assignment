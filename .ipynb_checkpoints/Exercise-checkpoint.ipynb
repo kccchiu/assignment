{
 "cells": [
  {
   "cell_type": "markdown",
   "metadata": {},
   "source": [
    "# Ex A"
   ]
  },
  {
   "cell_type": "code",
   "execution_count": 1,
   "metadata": {},
   "outputs": [],
   "source": [
    "import numpy as np"
   ]
  },
  {
   "cell_type": "markdown",
   "metadata": {},
   "source": [
    "####  BM25 Example from Ch.7 slides"
   ]
  },
  {
   "cell_type": "code",
   "execution_count": 2,
   "metadata": {},
   "outputs": [],
   "source": [
    "N = 500000\n",
    "n1 = 40000\n",
    "n2 = 300\n",
    "f1 = 15\n",
    "f2 = 25\n",
    "dl = 0.9\n",
    "k1 = 1.2\n",
    "k2 = 100\n",
    "b = 0.75\n",
    "r1 = 0\n",
    "R = 0\n",
    "qf=1"
   ]
  },
  {
   "cell_type": "code",
   "execution_count": 3,
   "metadata": {},
   "outputs": [],
   "source": [
    "def get_K(k1, b, dl):\n",
    "    return k1*((1-b)+b*dl)"
   ]
  },
  {
   "cell_type": "code",
   "execution_count": 4,
   "metadata": {},
   "outputs": [],
   "source": [
    "def bm25(k1,k2,ri,ni,fi,R,qf,K):\n",
    "    return np.log(((ri+0.5)/(R-ri+0.5))/((ni-ri+0.5)/(N-ni-R+ri+0.5)))*(((k1+1)*fi)/(K+fi))*(((k2+1)*qf)/(k2+qf))"
   ]
  },
  {
   "cell_type": "code",
   "execution_count": 5,
   "metadata": {},
   "outputs": [],
   "source": [
    "K = get_K(k1, b, dl)"
   ]
  },
  {
   "cell_type": "code",
   "execution_count": 6,
   "metadata": {},
   "outputs": [],
   "source": [
    "t1 = bm25(k1,k2,r1,n1,f1,R,qf,K)\n",
    "t2 = bm25(k1,k2,r1,n2,f2,R,qf,K)"
   ]
  },
  {
   "cell_type": "code",
   "execution_count": 7,
   "metadata": {},
   "outputs": [
    {
     "data": {
      "text/plain": [
       "20.625189631270004"
      ]
     },
     "execution_count": 7,
     "metadata": {},
     "output_type": "execute_result"
    }
   ],
   "source": [
    "np.sum([t1,t2])  #'almost' the same result as in the slide"
   ]
  },
  {
   "cell_type": "markdown",
   "metadata": {},
   "source": [
    "## Assignment"
   ]
  },
  {
   "cell_type": "code",
   "execution_count": 8,
   "metadata": {},
   "outputs": [],
   "source": [
    "N = 1000\n",
    "n1 = 100\n",
    "n2 = 200\n",
    "n3 = 150\n",
    "f1 = 1\n",
    "f2 = 4\n",
    "f3 = 1\n",
    "k1 = 1.2\n",
    "k2 = 100\n",
    "b = 0.75\n",
    "r = 0 #Assuming no relevance information\n",
    "R = 0 #Assuming no relevance information\n",
    "qf = 1 #Assuming query with two terms, qf=1\n",
    "dl = 1 #Assuming document length is same as average document length"
   ]
  },
  {
   "cell_type": "code",
   "execution_count": 9,
   "metadata": {},
   "outputs": [],
   "source": [
    "K = get_K(k1,b,dl)"
   ]
  },
  {
   "cell_type": "code",
   "execution_count": 10,
   "metadata": {},
   "outputs": [
    {
     "name": "stdout",
     "output_type": "stream",
     "text": [
      "score of riverside: 2.1927924371168803\n",
      "score of university: 2.342868483475631\n",
      "score of diverse: 1.731861327646986\n"
     ]
    }
   ],
   "source": [
    "riverside = bm25(k1, k2, r, n1, f1, R, qf, K)\n",
    "print('score of riverside:',riverside)\n",
    "university = bm25(k1, k2, r, n2, f2, R, qf, K)\n",
    "print('score of university:',university)\n",
    "diverse = bm25(k1, k2, r, n3, f3, R, qf, K)\n",
    "print('score of diverse:',diverse)"
   ]
  },
  {
   "cell_type": "markdown",
   "metadata": {},
   "source": [
    "####  Answer"
   ]
  },
  {
   "cell_type": "code",
   "execution_count": 11,
   "metadata": {},
   "outputs": [
    {
     "name": "stdout",
     "output_type": "stream",
     "text": [
      "bm25 score for Q1 (university+riverside) is: 4.535660920592511\n",
      "bm25 score for Q2 (diverse+university) is: 4.074729811122617\n"
     ]
    }
   ],
   "source": [
    "#Q1 university Riverside\n",
    "print('bm25 score for Q1 (university+riverside) is:',university+riverside)\n",
    "#Q2diverse univeristy\n",
    "print('bm25 score for Q2 (diverse+university) is:',diverse+university)"
   ]
  },
  {
   "cell_type": "markdown",
   "metadata": {},
   "source": [
    "Constraint in bm25 are assumption of r, R, and the average document length."
   ]
  },
  {
   "cell_type": "markdown",
   "metadata": {},
   "source": [
    "### Unigram"
   ]
  },
  {
   "cell_type": "code",
   "execution_count": 12,
   "metadata": {},
   "outputs": [],
   "source": [
    "doc = \"The University of California, Riverside is one of 10 universities within the prestigious University of California system, and the only UC located in Inland Southern California. Widely recognized as one of the most ethnically diverse research universities in the nation.\""
   ]
  },
  {
   "cell_type": "code",
   "execution_count": 13,
   "metadata": {},
   "outputs": [],
   "source": [
    "doc = doc.lower().replace('universities','university').split(\" \")"
   ]
  },
  {
   "cell_type": "code",
   "execution_count": 14,
   "metadata": {},
   "outputs": [
    {
     "name": "stdout",
     "output_type": "stream",
     "text": [
      "The total length of the document is: 40\n",
      "The count of university is: 4\n",
      "The count of Riverside is: 1\n",
      "The count of diverse is: 1\n"
     ]
    }
   ],
   "source": [
    "university_str = \"university\"\n",
    "riverside_str = \"riverside\"\n",
    "diverse_str = \"diverse\"\n",
    "count_uni = doc.count(university_str)\n",
    "count_riv = doc.count(riverside_str)\n",
    "count_div = doc.count(diverse_str)\n",
    "\n",
    "count_doc = len(doc)\n",
    "\n",
    "# print count\n",
    "print(\"The total length of the document is:\", count_doc)\n",
    "print(\"The count of university is:\", count_uni)\n",
    "print(\"The count of Riverside is:\", count_riv)\n",
    "print(\"The count of diverse is:\", count_div)"
   ]
  },
  {
   "cell_type": "code",
   "execution_count": 15,
   "metadata": {},
   "outputs": [
    {
     "name": "stdout",
     "output_type": "stream",
     "text": [
      "unigram model score for q1 is 0.0025, and q2 is 0.0025\n"
     ]
    }
   ],
   "source": [
    "#Q1 university Riverside\n",
    "uni_q1 = (count_uni/count_doc)*(count_riv/count_doc)\n",
    "#Q2 diverse university\n",
    "uni_q2 = (count_div/count_doc)*(count_uni/count_doc)\n",
    "print('unigram model score for q1 is %.4f, and q2 is %.4f' % (round(uni_q1,6), round(uni_q2,6)))"
   ]
  },
  {
   "cell_type": "markdown",
   "metadata": {},
   "source": [
    "#### Laplace smoothing"
   ]
  },
  {
   "cell_type": "code",
   "execution_count": 16,
   "metadata": {},
   "outputs": [],
   "source": [
    "def laplace(count, count_doc, k):\n",
    "    return (count+k)/(count_doc+(count*k))"
   ]
  },
  {
   "cell_type": "code",
   "execution_count": 17,
   "metadata": {},
   "outputs": [
    {
     "name": "stdout",
     "output_type": "stream",
     "text": [
      "unigram model score for q1 is 0.0055, and q2 is 0.0024\n"
     ]
    }
   ],
   "source": [
    "k = 1\n",
    "uni_q1 = laplace(count_uni, count_doc, k)*laplace(count_riv, count_doc, k)\n",
    "uni_q2 = laplace(count_div, count_doc, k)*laplace(count_riv, count_doc, k)\n",
    "print('unigram model score for q1 is %.4f, and q2 is %.4f' % (round(uni_q1,6), round(uni_q2,6)))"
   ]
  },
  {
   "cell_type": "markdown",
   "metadata": {},
   "source": [
    "# Ex B"
   ]
  },
  {
   "cell_type": "code",
   "execution_count": null,
   "metadata": {},
   "outputs": [],
   "source": []
  }
 ],
 "metadata": {
  "kernelspec": {
   "display_name": "Python 3",
   "language": "python",
   "name": "python3"
  },
  "language_info": {
   "codemirror_mode": {
    "name": "ipython",
    "version": 3
   },
   "file_extension": ".py",
   "mimetype": "text/x-python",
   "name": "python",
   "nbconvert_exporter": "python",
   "pygments_lexer": "ipython3",
   "version": "3.7.4"
  }
 },
 "nbformat": 4,
 "nbformat_minor": 2
}
